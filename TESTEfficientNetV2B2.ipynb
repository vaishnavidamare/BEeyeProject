{
 "cells": [
  {
   "cell_type": "markdown",
   "id": "21cc87c8-d6e2-4ffc-abff-984b55004953",
   "metadata": {},
   "source": [
    "#### Loading trained EfficientNetB2 model"
   ]
  },
  {
   "cell_type": "code",
   "execution_count": 4,
   "id": "7e1f8ba3-654e-4820-9d76-73d82e05bc7f",
   "metadata": {},
   "outputs": [],
   "source": [
    "import tensorflow as tf\n",
    "\n",
    "# Load the model from the .h5 file\n",
    "loaded_model = tf.keras.models.load_model('radha_EfficientNetB2.h5')\n",
    "\n",
    "# using loaded_model for predictions\n"
   ]
  },
  {
   "cell_type": "markdown",
   "id": "6f029c68-d1aa-4510-a894-a74e63cf033d",
   "metadata": {},
   "source": [
    "#### Passing arguments to load and preprocess the image and predict its class"
   ]
  },
  {
   "cell_type": "code",
   "execution_count": 5,
   "id": "944a226b-4f97-4fa4-9031-e3be20f050bd",
   "metadata": {},
   "outputs": [],
   "source": [
    "import numpy as np\n",
    "from tensorflow.keras.preprocessing.image import load_img, img_to_array\n",
    "from sklearn.preprocessing import LabelBinarizer\n",
    "\n",
    "def predict_class(image_path, model, train_generator):\n",
    "    # Load the image\n",
    "    img = load_img(image_path, target_size=(224, 224))\n",
    "\n",
    "    # Convert the image to a numpy array\n",
    "    img_array = img_to_array(img)\n",
    "\n",
    "    # Expand the dimensions of the numpy array\n",
    "    img_array = np.expand_dims(img_array, axis=0)\n",
    "\n",
    "    # Predict the class of the image\n",
    "    class_prediction = model.predict(img_array)\n",
    "\n",
    "    # Get the predicted class index\n",
    "    class_index = np.argmax(class_prediction)\n",
    "\n",
    "    # Get the class indices and names\n",
    "    class_indices = train_generator.class_indices\n",
    "    class_names = dict((v, k) for k, v in class_indices.items())\n",
    "\n",
    "    # Get the predicted class name\n",
    "    class_name = class_names[class_index]\n",
    "\n",
    "    # Return the predicted class name\n",
    "    return class_name\n"
   ]
  },
  {
   "cell_type": "code",
   "execution_count": 6,
   "id": "46070602-2303-4ed8-ab04-ea4433d4cbcb",
   "metadata": {},
   "outputs": [
    {
     "name": "stdout",
     "output_type": "stream",
     "text": [
      "Found 4314 images belonging to 5 classes.\n",
      "Found 1081 images belonging to 5 classes.\n"
     ]
    }
   ],
   "source": [
    "from tensorflow.keras.preprocessing.image import ImageDataGenerator\n",
    "\n",
    "train_data_dir=\"/home/admin1/Desktop/BE project/project/dataset2/train\"\n",
    "val_data_dir=\"/home/admin1/Desktop/BE project/project/dataset2/val\"\n",
    "\n",
    "\n",
    "train_datagen=ImageDataGenerator(rescale=1./255,\n",
    "                                 horizontal_flip=True,\n",
    "                                 )\n",
    "\n",
    "val_datagen=ImageDataGenerator(rescale=1./255)\n",
    "\n",
    "\n",
    "img_width,img_height=224,224\n",
    "batch_size=64\n",
    "train_generator=train_datagen.flow_from_directory(train_data_dir,\n",
    "                                                  target_size=(img_height,img_width),\n",
    "                                                  batch_size=batch_size,\n",
    "                                                  class_mode='categorical')\n",
    "\n",
    "val_generator=val_datagen.flow_from_directory(val_data_dir,\n",
    "                                              target_size=(img_height,img_width),\n",
    "                                              batch_size=batch_size,\n",
    "                                              class_mode='categorical')\n",
    "\n"
   ]
  },
  {
   "cell_type": "markdown",
   "id": "4210aeec-b194-4d4a-80d6-5c9e875571c4",
   "metadata": {},
   "source": [
    "#### Prediction on given user inputs"
   ]
  },
  {
   "cell_type": "code",
   "execution_count": 14,
   "id": "17628f5d-7d6d-4345-a78e-42fd36711779",
   "metadata": {},
   "outputs": [
    {
     "name": "stdout",
     "output_type": "stream",
     "text": [
      "1/1 [==============================] - 0s 39ms/step\n",
      "AMD\n"
     ]
    }
   ],
   "source": [
    "user_input = \"/home/admin1/Desktop/BE project/project/dataset2/val/AMD/0_ORID19_173_ARMD.png\"\n",
    "path = user_input\n",
    "class_index = predict_class(path, loaded_model, train_generator)\n",
    "print(class_index)\n"
   ]
  },
  {
   "cell_type": "code",
   "execution_count": 15,
   "id": "9b0dbaf7-874d-45d4-8a12-9b364f79c4d9",
   "metadata": {},
   "outputs": [
    {
     "name": "stdout",
     "output_type": "stream",
     "text": [
      "1/1 [==============================] - 0s 38ms/step\n",
      "diabetic_retinopathy\n"
     ]
    }
   ],
   "source": [
    "user_input = \"/home/admin1/Desktop/BE project/project/dataset2/val/diabetic_retinopathy/1180_left.jpeg\"\n",
    "path = user_input\n",
    "class_index = predict_class(path, loaded_model, train_generator)\n",
    "print(class_index)\n"
   ]
  },
  {
   "cell_type": "code",
   "execution_count": 16,
   "id": "857ca843-557d-4918-b9bf-c1472e0f52ea",
   "metadata": {},
   "outputs": [
    {
     "name": "stdout",
     "output_type": "stream",
     "text": [
      "1/1 [==============================] - 0s 36ms/step\n",
      "cataract\n"
     ]
    }
   ],
   "source": [
    "user_input = \"/home/admin1/Desktop/BE project/project/dataset2/val/cataract/_248_3607543.jpg\"\n",
    "path = user_input\n",
    "class_index = predict_class(path, loaded_model, train_generator)\n",
    "print(class_index)"
   ]
  },
  {
   "cell_type": "code",
   "execution_count": 18,
   "id": "55a4c4ce-8feb-458a-801e-ebd2a7f34770",
   "metadata": {},
   "outputs": [
    {
     "name": "stdout",
     "output_type": "stream",
     "text": [
      "1/1 [==============================] - 0s 37ms/step\n",
      "glaucoma\n"
     ]
    }
   ],
   "source": [
    "user_input = \"/home/admin1/Desktop/BE project/project/dataset2/val/glaucoma/_67_5997765.jpg\"\n",
    "path = user_input\n",
    "class_index = predict_class(path, loaded_model, train_generator)\n",
    "print(class_index)\n"
   ]
  },
  {
   "cell_type": "code",
   "execution_count": null,
   "id": "b4caab84-3000-4e66-89ed-e4a49314b974",
   "metadata": {},
   "outputs": [],
   "source": [
    "user_input = \"/home/admin1/Desktop/BE project/project/dataset2/val/glaucoma/2426_right.jpg\"\n",
    "path = user_input\n",
    "class_index = predict_class(path, loaded_model, train_generator)\n",
    "print(class_index)\n"
   ]
  }
 ],
 "metadata": {
  "kernelspec": {
   "display_name": "Python 3 (ipykernel)",
   "language": "python",
   "name": "python3"
  },
  "language_info": {
   "codemirror_mode": {
    "name": "ipython",
    "version": 3
   },
   "file_extension": ".py",
   "mimetype": "text/x-python",
   "name": "python",
   "nbconvert_exporter": "python",
   "pygments_lexer": "ipython3",
   "version": "3.12.0"
  }
 },
 "nbformat": 4,
 "nbformat_minor": 5
}
